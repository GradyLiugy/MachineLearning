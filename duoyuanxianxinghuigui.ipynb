{
 "cells": [
  {
   "cell_type": "code",
   "execution_count": 5,
   "metadata": {},
   "outputs": [],
   "source": [
    "import numpy as np\n",
    "import pandas as pd \n",
    "import matplotlib.pyplot as plt\n",
    "\n",
    "from sklearn.model_selection import train_test_split\n",
    "from sklearn.model_selection import cross_val_score\n",
    "from sklearn.linear_model import LinearRegression as LR \n",
    "from sklearn.linear_model import Lasso\n",
    "from sklearn.linear_model import Ridge\n",
    "from sklearn.model_selection import GridSearchCV\n",
    "from sklearn.metrics import r2_score\n",
    "from sklearn.metrics import explained_variance_score as EVS \n",
    "from sklearn.metrics import mean_squared_error as MSE "
   ]
  },
  {
   "cell_type": "code",
   "execution_count": 6,
   "metadata": {},
   "outputs": [],
   "source": [
    "data = pd.read_csv('data.csv')\n",
    "x = data[['给料量','转速','温度']]\n",
    "y = data['挥发份']"
   ]
  },
  {
   "cell_type": "code",
   "execution_count": 7,
   "metadata": {},
   "outputs": [
    {
     "output_type": "execute_result",
     "data": {
      "text/plain": "   给料量  转速   温度\n0  1.0  70  650\n1  1.0  80  750\n2  1.0  90  850\n3  1.2  70  650\n4  1.2  80  750",
      "text/html": "<div>\n<style scoped>\n    .dataframe tbody tr th:only-of-type {\n        vertical-align: middle;\n    }\n\n    .dataframe tbody tr th {\n        vertical-align: top;\n    }\n\n    .dataframe thead th {\n        text-align: right;\n    }\n</style>\n<table border=\"1\" class=\"dataframe\">\n  <thead>\n    <tr style=\"text-align: right;\">\n      <th></th>\n      <th>给料量</th>\n      <th>转速</th>\n      <th>温度</th>\n    </tr>\n  </thead>\n  <tbody>\n    <tr>\n      <th>0</th>\n      <td>1.0</td>\n      <td>70</td>\n      <td>650</td>\n    </tr>\n    <tr>\n      <th>1</th>\n      <td>1.0</td>\n      <td>80</td>\n      <td>750</td>\n    </tr>\n    <tr>\n      <th>2</th>\n      <td>1.0</td>\n      <td>90</td>\n      <td>850</td>\n    </tr>\n    <tr>\n      <th>3</th>\n      <td>1.2</td>\n      <td>70</td>\n      <td>650</td>\n    </tr>\n    <tr>\n      <th>4</th>\n      <td>1.2</td>\n      <td>80</td>\n      <td>750</td>\n    </tr>\n  </tbody>\n</table>\n</div>"
     },
     "metadata": {},
     "execution_count": 7
    }
   ],
   "source": [
    "x.head()"
   ]
  },
  {
   "cell_type": "code",
   "execution_count": 8,
   "metadata": {},
   "outputs": [
    {
     "output_type": "execute_result",
     "data": {
      "text/plain": "0     9.2\n1     8.8\n2     7.4\n3    11.8\n4    10.2\nName: 挥发份, dtype: float64"
     },
     "metadata": {},
     "execution_count": 8
    }
   ],
   "source": [
    "y.head()"
   ]
  },
  {
   "cell_type": "code",
   "execution_count": 9,
   "metadata": {},
   "outputs": [
    {
     "output_type": "execute_result",
     "data": {
      "text/plain": "(8, 3)"
     },
     "metadata": {},
     "execution_count": 9
    }
   ],
   "source": [
    "x_train,x_test,y_train,y_test = train_test_split(x,y,test_size=0.1,random_state=1)\n",
    "x_train.shape"
   ]
  },
  {
   "cell_type": "code",
   "execution_count": 12,
   "metadata": {},
   "outputs": [
    {
     "output_type": "execute_result",
     "data": {
      "text/plain": "   给料量  转速   温度\n8  1.5  90  850",
      "text/html": "<div>\n<style scoped>\n    .dataframe tbody tr th:only-of-type {\n        vertical-align: middle;\n    }\n\n    .dataframe tbody tr th {\n        vertical-align: top;\n    }\n\n    .dataframe thead th {\n        text-align: right;\n    }\n</style>\n<table border=\"1\" class=\"dataframe\">\n  <thead>\n    <tr style=\"text-align: right;\">\n      <th></th>\n      <th>给料量</th>\n      <th>转速</th>\n      <th>温度</th>\n    </tr>\n  </thead>\n  <tbody>\n    <tr>\n      <th>8</th>\n      <td>1.5</td>\n      <td>90</td>\n      <td>850</td>\n    </tr>\n  </tbody>\n</table>\n</div>"
     },
     "metadata": {},
     "execution_count": 12
    }
   ],
   "source": [
    "x_test"
   ]
  },
  {
   "cell_type": "code",
   "execution_count": 10,
   "metadata": {},
   "outputs": [
    {
     "output_type": "execute_result",
     "data": {
      "text/plain": "array([10.65081967])"
     },
     "metadata": {},
     "execution_count": 10
    }
   ],
   "source": [
    "reg = LR().fit(x_train,y_train)\n",
    "yhat = reg.predict(x_test)\n",
    "yhat"
   ]
  },
  {
   "cell_type": "code",
   "execution_count": 11,
   "metadata": {},
   "outputs": [
    {
     "output_type": "stream",
     "name": "stdout",
     "text": "[ 5.82513661e+00 -1.03121788e-03 -1.03121788e-02]\n10.771276307958665\n"
    }
   ],
   "source": [
    "print(reg.coef_)\n",
    "print(reg.intercept_)\n",
    "# y = 10.77 + 5.825*给料量 + (-1.031e-03)*转速 + (-1.031e-02)*温度"
   ]
  },
  {
   "cell_type": "code",
   "execution_count": 13,
   "metadata": {},
   "outputs": [
    {
     "output_type": "execute_result",
     "data": {
      "text/plain": "1.1042219833378093"
     },
     "metadata": {},
     "execution_count": 13
    }
   ],
   "source": [
    "MSE(y_test,yhat)"
   ]
  },
  {
   "cell_type": "code",
   "execution_count": 14,
   "metadata": {},
   "outputs": [
    {
     "output_type": "execute_result",
     "data": {
      "text/plain": "0.10946038251366105"
     },
     "metadata": {},
     "execution_count": 14
    }
   ],
   "source": [
    "np.sqrt(MSE(y_test,yhat))/y_test.mean()"
   ]
  },
  {
   "cell_type": "code",
   "execution_count": 15,
   "metadata": {},
   "outputs": [
    {
     "output_type": "execute_result",
     "data": {
      "text/plain": "array([2.62572531, 0.90708333, 5.61166667])"
     },
     "metadata": {},
     "execution_count": 15
    }
   ],
   "source": [
    "-cross_val_score(reg,x,y,cv=3,scoring='neg_mean_squared_error')"
   ]
  },
  {
   "cell_type": "code",
   "execution_count": 16,
   "metadata": {},
   "outputs": [
    {
     "output_type": "execute_result",
     "data": {
      "text/plain": "-1.9408090398952502"
     },
     "metadata": {},
     "execution_count": 16
    }
   ],
   "source": [
    "cross_val_score(reg,x,y,cv=3,scoring='r2').mean()"
   ]
  },
  {
   "cell_type": "code",
   "execution_count": 17,
   "metadata": {},
   "outputs": [
    {
     "output_type": "execute_result",
     "data": {
      "text/plain": "nan"
     },
     "metadata": {},
     "execution_count": 17
    }
   ],
   "source": [
    "r2_score(y_test,yhat)"
   ]
  },
  {
   "cell_type": "markdown",
   "metadata": {},
   "source": [
    "## 多元非线性回归\n",
    "PolynomalFeatures(degree=2,interaction_only=False,include_bias=False)\n",
    "\n",
    "参数说明：\n",
    "degree=2，表示多项式的变化维度为2，即^2\n",
    "\n",
    "interaction_only=False，表示是否只使用a*b，默认为False\n",
    "\n",
    "include_bias=False，是否添加一列全部等于1的偏置项\n",
    "\n",
    "e.g. PolynomalFeatures(degree=2,interaction_only=False,include_bias=False) 就是对特征数据进行多项式转化，当特征为a与b时，相当于多出来了3个特征，即a^2,a*b,b^2"
   ]
  },
  {
   "cell_type": "code",
   "execution_count": 18,
   "metadata": {},
   "outputs": [
    {
     "output_type": "execute_result",
     "data": {
      "text/plain": "     0     1      2     3     4      5       6        7         8\n0  1.0  70.0  650.0  1.00  70.0  650.0  4900.0  45500.0  422500.0\n1  1.0  80.0  750.0  1.00  80.0  750.0  6400.0  60000.0  562500.0\n2  1.0  90.0  850.0  1.00  90.0  850.0  8100.0  76500.0  722500.0\n3  1.2  70.0  650.0  1.44  84.0  780.0  4900.0  45500.0  422500.0\n4  1.2  80.0  750.0  1.44  96.0  900.0  6400.0  60000.0  562500.0",
      "text/html": "<div>\n<style scoped>\n    .dataframe tbody tr th:only-of-type {\n        vertical-align: middle;\n    }\n\n    .dataframe tbody tr th {\n        vertical-align: top;\n    }\n\n    .dataframe thead th {\n        text-align: right;\n    }\n</style>\n<table border=\"1\" class=\"dataframe\">\n  <thead>\n    <tr style=\"text-align: right;\">\n      <th></th>\n      <th>0</th>\n      <th>1</th>\n      <th>2</th>\n      <th>3</th>\n      <th>4</th>\n      <th>5</th>\n      <th>6</th>\n      <th>7</th>\n      <th>8</th>\n    </tr>\n  </thead>\n  <tbody>\n    <tr>\n      <th>0</th>\n      <td>1.0</td>\n      <td>70.0</td>\n      <td>650.0</td>\n      <td>1.00</td>\n      <td>70.0</td>\n      <td>650.0</td>\n      <td>4900.0</td>\n      <td>45500.0</td>\n      <td>422500.0</td>\n    </tr>\n    <tr>\n      <th>1</th>\n      <td>1.0</td>\n      <td>80.0</td>\n      <td>750.0</td>\n      <td>1.00</td>\n      <td>80.0</td>\n      <td>750.0</td>\n      <td>6400.0</td>\n      <td>60000.0</td>\n      <td>562500.0</td>\n    </tr>\n    <tr>\n      <th>2</th>\n      <td>1.0</td>\n      <td>90.0</td>\n      <td>850.0</td>\n      <td>1.00</td>\n      <td>90.0</td>\n      <td>850.0</td>\n      <td>8100.0</td>\n      <td>76500.0</td>\n      <td>722500.0</td>\n    </tr>\n    <tr>\n      <th>3</th>\n      <td>1.2</td>\n      <td>70.0</td>\n      <td>650.0</td>\n      <td>1.44</td>\n      <td>84.0</td>\n      <td>780.0</td>\n      <td>4900.0</td>\n      <td>45500.0</td>\n      <td>422500.0</td>\n    </tr>\n    <tr>\n      <th>4</th>\n      <td>1.2</td>\n      <td>80.0</td>\n      <td>750.0</td>\n      <td>1.44</td>\n      <td>96.0</td>\n      <td>900.0</td>\n      <td>6400.0</td>\n      <td>60000.0</td>\n      <td>562500.0</td>\n    </tr>\n  </tbody>\n</table>\n</div>"
     },
     "metadata": {},
     "execution_count": 18
    }
   ],
   "source": [
    "from sklearn.preprocessing import PolynomialFeatures\n",
    "\n",
    "po = PolynomialFeatures(degree=2,interaction_only=False,include_bias=False)\n",
    "x_poly = po.fit_transform(x)\n",
    "pd.DataFrame(x_poly).head()"
   ]
  },
  {
   "cell_type": "code",
   "execution_count": 19,
   "metadata": {},
   "outputs": [
    {
     "output_type": "execute_result",
     "data": {
      "text/plain": "   给料量    转速     温度  给料量^2  给料量_转速  给料量_温度    转速^2    转速_温度      温度^2\n0  1.0  70.0  650.0   1.00    70.0   650.0  4900.0  45500.0  422500.0\n1  1.0  80.0  750.0   1.00    80.0   750.0  6400.0  60000.0  562500.0\n2  1.0  90.0  850.0   1.00    90.0   850.0  8100.0  76500.0  722500.0\n3  1.2  70.0  650.0   1.44    84.0   780.0  4900.0  45500.0  422500.0\n4  1.2  80.0  750.0   1.44    96.0   900.0  6400.0  60000.0  562500.0",
      "text/html": "<div>\n<style scoped>\n    .dataframe tbody tr th:only-of-type {\n        vertical-align: middle;\n    }\n\n    .dataframe tbody tr th {\n        vertical-align: top;\n    }\n\n    .dataframe thead th {\n        text-align: right;\n    }\n</style>\n<table border=\"1\" class=\"dataframe\">\n  <thead>\n    <tr style=\"text-align: right;\">\n      <th></th>\n      <th>给料量</th>\n      <th>转速</th>\n      <th>温度</th>\n      <th>给料量^2</th>\n      <th>给料量_转速</th>\n      <th>给料量_温度</th>\n      <th>转速^2</th>\n      <th>转速_温度</th>\n      <th>温度^2</th>\n    </tr>\n  </thead>\n  <tbody>\n    <tr>\n      <th>0</th>\n      <td>1.0</td>\n      <td>70.0</td>\n      <td>650.0</td>\n      <td>1.00</td>\n      <td>70.0</td>\n      <td>650.0</td>\n      <td>4900.0</td>\n      <td>45500.0</td>\n      <td>422500.0</td>\n    </tr>\n    <tr>\n      <th>1</th>\n      <td>1.0</td>\n      <td>80.0</td>\n      <td>750.0</td>\n      <td>1.00</td>\n      <td>80.0</td>\n      <td>750.0</td>\n      <td>6400.0</td>\n      <td>60000.0</td>\n      <td>562500.0</td>\n    </tr>\n    <tr>\n      <th>2</th>\n      <td>1.0</td>\n      <td>90.0</td>\n      <td>850.0</td>\n      <td>1.00</td>\n      <td>90.0</td>\n      <td>850.0</td>\n      <td>8100.0</td>\n      <td>76500.0</td>\n      <td>722500.0</td>\n    </tr>\n    <tr>\n      <th>3</th>\n      <td>1.2</td>\n      <td>70.0</td>\n      <td>650.0</td>\n      <td>1.44</td>\n      <td>84.0</td>\n      <td>780.0</td>\n      <td>4900.0</td>\n      <td>45500.0</td>\n      <td>422500.0</td>\n    </tr>\n    <tr>\n      <th>4</th>\n      <td>1.2</td>\n      <td>80.0</td>\n      <td>750.0</td>\n      <td>1.44</td>\n      <td>96.0</td>\n      <td>900.0</td>\n      <td>6400.0</td>\n      <td>60000.0</td>\n      <td>562500.0</td>\n    </tr>\n  </tbody>\n</table>\n</div>"
     },
     "metadata": {},
     "execution_count": 19
    }
   ],
   "source": [
    "x_poly = pd.DataFrame(x_poly,\n",
    "                      columns=['给料量','转速','温度','给料量^2','给料量_转速','给料量_温度','转速^2','转速_温度','温度^2'])\n",
    "x_poly.head()"
   ]
  },
  {
   "cell_type": "code",
   "execution_count": 24,
   "metadata": {},
   "outputs": [
    {
     "output_type": "execute_result",
     "data": {
      "text/plain": "(7, 9)"
     },
     "metadata": {},
     "execution_count": 24
    }
   ],
   "source": [
    "x_train2,x_test2,y_train2,y_test2 = train_test_split(x_poly,y,test_size=0.2,random_state=1)\n",
    "x_train.shape"
   ]
  },
  {
   "cell_type": "code",
   "execution_count": 25,
   "metadata": {},
   "outputs": [
    {
     "output_type": "execute_result",
     "data": {
      "text/plain": "   给料量    转速     温度  给料量^2  给料量_转速  给料量_温度    转速^2    转速_温度      温度^2\n8  1.5  90.0  850.0   2.25   135.0  1275.0  8100.0  76500.0  722500.0\n2  1.0  90.0  850.0   1.00    90.0   850.0  8100.0  76500.0  722500.0",
      "text/html": "<div>\n<style scoped>\n    .dataframe tbody tr th:only-of-type {\n        vertical-align: middle;\n    }\n\n    .dataframe tbody tr th {\n        vertical-align: top;\n    }\n\n    .dataframe thead th {\n        text-align: right;\n    }\n</style>\n<table border=\"1\" class=\"dataframe\">\n  <thead>\n    <tr style=\"text-align: right;\">\n      <th></th>\n      <th>给料量</th>\n      <th>转速</th>\n      <th>温度</th>\n      <th>给料量^2</th>\n      <th>给料量_转速</th>\n      <th>给料量_温度</th>\n      <th>转速^2</th>\n      <th>转速_温度</th>\n      <th>温度^2</th>\n    </tr>\n  </thead>\n  <tbody>\n    <tr>\n      <th>8</th>\n      <td>1.5</td>\n      <td>90.0</td>\n      <td>850.0</td>\n      <td>2.25</td>\n      <td>135.0</td>\n      <td>1275.0</td>\n      <td>8100.0</td>\n      <td>76500.0</td>\n      <td>722500.0</td>\n    </tr>\n    <tr>\n      <th>2</th>\n      <td>1.0</td>\n      <td>90.0</td>\n      <td>850.0</td>\n      <td>1.00</td>\n      <td>90.0</td>\n      <td>850.0</td>\n      <td>8100.0</td>\n      <td>76500.0</td>\n      <td>722500.0</td>\n    </tr>\n  </tbody>\n</table>\n</div>"
     },
     "metadata": {},
     "execution_count": 25
    }
   ],
   "source": [
    "x_test2"
   ]
  },
  {
   "cell_type": "code",
   "execution_count": 26,
   "metadata": {},
   "outputs": [
    {
     "output_type": "execute_result",
     "data": {
      "text/plain": "array([9.30526316, 8.06315789])"
     },
     "metadata": {},
     "execution_count": 26
    }
   ],
   "source": [
    "reg2 = LR().fit(x_train2,y_train2)\n",
    "yhat2 = reg2.predict(x_test2)\n",
    "yhat2"
   ]
  },
  {
   "cell_type": "code",
   "execution_count": 27,
   "metadata": {},
   "outputs": [
    {
     "output_type": "stream",
     "name": "stdout",
     "text": "[ 2.18560068e+00  3.36332733e-05  3.36332714e-04 -1.40000000e+01\n  1.08176167e+01 -1.10386693e+00  3.34678858e-04  1.66512502e-03\n -1.65385606e-04]\n-26.311824611538\n"
    }
   ],
   "source": [
    "print(reg2.coef_)\n",
    "print(reg2.intercept_)"
   ]
  },
  {
   "cell_type": "code",
   "execution_count": 28,
   "metadata": {},
   "outputs": [
    {
     "output_type": "execute_result",
     "data": {
      "text/plain": "0.060370723186499504"
     },
     "metadata": {},
     "execution_count": 28
    }
   ],
   "source": [
    "np.sqrt(MSE(y_test2,yhat2))/y_test2.mean()"
   ]
  },
  {
   "cell_type": "code",
   "execution_count": 29,
   "metadata": {},
   "outputs": [
    {
     "output_type": "execute_result",
     "data": {
      "text/plain": "-2.3171465033273946"
     },
     "metadata": {},
     "execution_count": 29
    }
   ],
   "source": [
    "cross_val_score(reg2,x_poly,y,cv=3,scoring='r2').mean()"
   ]
  },
  {
   "cell_type": "code",
   "execution_count": 30,
   "metadata": {},
   "outputs": [
    {
     "output_type": "execute_result",
     "data": {
      "text/plain": "0.7823767770620631"
     },
     "metadata": {},
     "execution_count": 30
    }
   ],
   "source": [
    "r2_score(y_test2,yhat2)"
   ]
  },
  {
   "cell_type": "code",
   "execution_count": null,
   "metadata": {},
   "outputs": [],
   "source": []
  }
 ],
 "metadata": {
  "language_info": {
   "codemirror_mode": {
    "name": "ipython",
    "version": 3
   },
   "file_extension": ".py",
   "mimetype": "text/x-python",
   "name": "python",
   "nbconvert_exporter": "python",
   "pygments_lexer": "ipython3",
   "version": "3.7.7-final"
  },
  "orig_nbformat": 2,
  "kernelspec": {
   "name": "python37564bitbaseconda8f39ec062dd34dc3abef4009d7860a52",
   "display_name": "Python 3.7.5 64-bit ('base': conda)"
  }
 },
 "nbformat": 4,
 "nbformat_minor": 2
}