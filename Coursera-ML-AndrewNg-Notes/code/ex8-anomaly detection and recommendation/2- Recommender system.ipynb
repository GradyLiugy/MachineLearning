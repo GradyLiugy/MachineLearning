{
 "cells": [
  {
   "cell_type": "markdown",
   "metadata": {},
   "source": [
    "# 2-推荐系统"
   ]
  },
  {
   "cell_type": "code",
   "execution_count": 4,
   "metadata": {
    "collapsed": true
   },
   "outputs": [],
   "source": [
    "import matplotlib.pyplot as plt\n",
    "import seaborn as sns\n",
    "sns.set(context=\"notebook\", style=\"white\")\n",
    "import numpy as np\n",
    "import pandas as pd\n",
    "import scipy.io as sio"
   ]
  },
  {
   "cell_type": "markdown",
   "metadata": {},
   "source": [
    "# load data and setting up"
   ]
  },
  {
   "cell_type": "raw",
   "metadata": {},
   "source": [
    "% Notes: X - num_movies (1682)  x num_features (10) matrix of movie features  \n",
    "%        Theta - num_users (943)  x num_features (10) matrix of user features  \n",
    "%        Y - num_movies x num_users matrix of user ratings of movies  \n",
    "%        R - num_movies x num_users matrix, where R(i, j) = 1 if the  \n",
    "%            i-th movie was rated by the j-th user  "
   ]
  },
  {
   "cell_type": "code",
   "execution_count": 5,
   "metadata": {},
   "outputs": [
    {
     "output_type": "execute_result",
     "data": {
      "text/plain": "((1682, 943), (1682, 943))"
     },
     "metadata": {},
     "execution_count": 5
    }
   ],
   "source": [
    "movies_mat = sio.loadmat('./data/ex8_movies.mat')\n",
    "Y, R = movies_mat.get('Y'), movies_mat.get('R')\n",
    "\n",
    "Y.shape, R.shape"
   ]
  },
  {
   "cell_type": "code",
   "execution_count": 6,
   "metadata": {
    "collapsed": true
   },
   "outputs": [],
   "source": [
    "m, u = Y.shape\n",
    "# m: how many movies\n",
    "# u: how many users\n",
    "\n",
    "n = 10  # how many features for a movie"
   ]
  },
  {
   "cell_type": "code",
   "execution_count": 7,
   "metadata": {},
   "outputs": [
    {
     "output_type": "execute_result",
     "data": {
      "text/plain": "((943, 10), (1682, 10))"
     },
     "metadata": {},
     "execution_count": 7
    }
   ],
   "source": [
    "param_mat = sio.loadmat('./data/ex8_movieParams.mat')\n",
    "theta, X = param_mat.get('Theta'), param_mat.get('X')\n",
    "\n",
    "theta.shape, X.shape"
   ]
  },
  {
   "cell_type": "markdown",
   "metadata": {},
   "source": [
    "# cost\n",
    "<img style=\"float: left;\" src=\"rcmd_cost.png\">"
   ]
  },
  {
   "cell_type": "code",
   "execution_count": 8,
   "metadata": {
    "collapsed": true
   },
   "outputs": [],
   "source": [
    "def serialize(X, theta):\n",
    "    \"\"\"serialize 2 matrix\n",
    "    \"\"\"\n",
    "    # X (movie, feature), (1682, 10): movie features\n",
    "    # theta (user, feature), (943, 10): user preference\n",
    "    return np.concatenate((X.ravel(), theta.ravel()))\n",
    "\n",
    "\n",
    "def deserialize(param, n_movie, n_user, n_features):\n",
    "    \"\"\"into ndarray of X(1682, 10), theta(943, 10)\"\"\"\n",
    "    return param[:n_movie * n_features].reshape(n_movie, n_features), \\\n",
    "           param[n_movie * n_features:].reshape(n_user, n_features)\n",
    "\n",
    "\n",
    "# recommendation fn\n",
    "def cost(param, Y, R, n_features):\n",
    "    \"\"\"compute cost for every r(i, j)=1\n",
    "    Args:\n",
    "        param: serialized X, theta\n",
    "        Y (movie, user), (1682, 943): (movie, user) rating\n",
    "        R (movie, user), (1682, 943): (movie, user) has rating\n",
    "    \"\"\"\n",
    "    # theta (user, feature), (943, 10): user preference\n",
    "    # X (movie, feature), (1682, 10): movie features\n",
    "    n_movie, n_user = Y.shape\n",
    "    X, theta = deserialize(param, n_movie, n_user, n_features)\n",
    "\n",
    "    inner = np.multiply(X @ theta.T - Y, R)\n",
    "\n",
    "    return np.power(inner, 2).sum() / 2\n",
    "\n",
    "\n",
    "def gradient(param, Y, R, n_features):\n",
    "    # theta (user, feature), (943, 10): user preference\n",
    "    # X (movie, feature), (1682, 10): movie features\n",
    "    n_movies, n_user = Y.shape\n",
    "    X, theta = deserialize(param, n_movies, n_user, n_features)\n",
    "\n",
    "    inner = np.multiply(X @ theta.T - Y, R)  # (1682, 943)\n",
    "\n",
    "    # X_grad (1682, 10)\n",
    "    X_grad = inner @ theta\n",
    "\n",
    "    # theta_grad (943, 10)\n",
    "    theta_grad = inner.T @ X\n",
    "\n",
    "    # roll them together and return\n",
    "    return serialize(X_grad, theta_grad)\n",
    "\n",
    "\n",
    "def regularized_cost(param, Y, R, n_features, l=1):\n",
    "    reg_term = np.power(param, 2).sum() * (l / 2)\n",
    "\n",
    "    return cost(param, Y, R, n_features) + reg_term\n",
    "\n",
    "\n",
    "def regularized_gradient(param, Y, R, n_features, l=1):\n",
    "    grad = gradient(param, Y, R, n_features)\n",
    "    reg_term = l * param\n",
    "\n",
    "    return grad + reg_term\n",
    ""
   ]
  },
  {
   "cell_type": "code",
   "execution_count": 9,
   "metadata": {},
   "outputs": [
    {
     "output_type": "execute_result",
     "data": {
      "text/plain": "22.224603725685675"
     },
     "metadata": {},
     "execution_count": 9
    }
   ],
   "source": [
    "# use subset of data to calculate the cost as in pdf...\n",
    "users = 4\n",
    "movies = 5\n",
    "features = 3\n",
    "\n",
    "X_sub = X[:movies, :features]\n",
    "theta_sub = theta[:users, :features]\n",
    "Y_sub = Y[:movies, :users]\n",
    "R_sub = R[:movies, :users]\n",
    "\n",
    "param_sub = serialize(X_sub, theta_sub)\n",
    "cost(param_sub, Y_sub, R_sub, features)"
   ]
  },
  {
   "cell_type": "code",
   "execution_count": 10,
   "metadata": {},
   "outputs": [
    {
     "output_type": "execute_result",
     "data": {
      "text/plain": "27918.64012454421"
     },
     "metadata": {},
     "execution_count": 10
    }
   ],
   "source": [
    "param = serialize(X, theta)  # total real params\n",
    "\n",
    "cost(serialize(X, theta), Y, R, 10)  # this is real total cost"
   ]
  },
  {
   "cell_type": "markdown",
   "metadata": {
    "collapsed": true
   },
   "source": [
    "# gradient\n",
    "<img style=\"float: left;\" src=\"rcmd_gradient.png\">"
   ]
  },
  {
   "cell_type": "code",
   "execution_count": 11,
   "metadata": {
    "collapsed": true
   },
   "outputs": [],
   "source": [
    "n_movie, n_user = Y.shape\n",
    "\n",
    "X_grad, theta_grad = deserialize(gradient(param, Y, R, 10),\n",
    "                                      n_movie, n_user, 10)"
   ]
  },
  {
   "cell_type": "markdown",
   "metadata": {},
   "source": [
    "<img style=\"float: left;\" src=\"rcmd_vectorized_grad.png\">"
   ]
  },
  {
   "cell_type": "code",
   "execution_count": 12,
   "metadata": {
    "collapsed": true
   },
   "outputs": [],
   "source": [
    "assert X_grad.shape == X.shape\n",
    "assert theta_grad.shape == theta.shape"
   ]
  },
  {
   "cell_type": "markdown",
   "metadata": {},
   "source": [
    "# regularized cost"
   ]
  },
  {
   "cell_type": "code",
   "execution_count": 13,
   "metadata": {},
   "outputs": [
    {
     "output_type": "execute_result",
     "data": {
      "text/plain": "31.34405624427422"
     },
     "metadata": {},
     "execution_count": 13
    }
   ],
   "source": [
    "# in the ex8_confi.m, lambda = 1.5, and it's using sub data set\n",
    "regularized_cost(param_sub, Y_sub, R_sub, features, l=1.5)"
   ]
  },
  {
   "cell_type": "code",
   "execution_count": 14,
   "metadata": {},
   "outputs": [
    {
     "output_type": "execute_result",
     "data": {
      "text/plain": "32520.682450229557"
     },
     "metadata": {},
     "execution_count": 14
    }
   ],
   "source": [
    "regularized_cost(param, Y, R, 10, l=1)  # total regularized cost"
   ]
  },
  {
   "cell_type": "markdown",
   "metadata": {},
   "source": [
    "# regularized gradient"
   ]
  },
  {
   "cell_type": "markdown",
   "metadata": {},
   "source": [
    "<img style=\"float: left;\" src=\"rcmd_reg_grad.png\">"
   ]
  },
  {
   "cell_type": "code",
   "execution_count": 15,
   "metadata": {
    "collapsed": true
   },
   "outputs": [],
   "source": [
    "n_movie, n_user = Y.shape\n",
    "\n",
    "X_grad, theta_grad = deserialize(regularized_gradient(param, Y, R, 10),\n",
    "                                                                n_movie, n_user, 10)\n",
    "\n",
    "assert X_grad.shape == X.shape\n",
    "assert theta_grad.shape == theta.shape"
   ]
  },
  {
   "cell_type": "markdown",
   "metadata": {},
   "source": [
    "# parse `movie_id.txt`"
   ]
  },
  {
   "cell_type": "code",
   "execution_count": 16,
   "metadata": {
    "collapsed": true
   },
   "outputs": [],
   "source": [
    "movie_list = []\n",
    "\n",
    "with open('./data/movie_ids.txt', encoding='latin-1') as f:\n",
    "    for line in f:\n",
    "        tokens = line.strip().split(' ')\n",
    "        movie_list.append(' '.join(tokens[1:]))\n",
    "\n",
    "movie_list = np.array(movie_list)"
   ]
  },
  {
   "cell_type": "markdown",
   "metadata": {},
   "source": [
    "# reproduce my ratings"
   ]
  },
  {
   "cell_type": "code",
   "execution_count": 17,
   "metadata": {
    "collapsed": true
   },
   "outputs": [],
   "source": [
    "ratings = np.zeros(1682)\n",
    "\n",
    "ratings[0] = 4\n",
    "ratings[6] = 3\n",
    "ratings[11] = 5\n",
    "ratings[53] = 4\n",
    "ratings[63] = 5\n",
    "ratings[65] = 3\n",
    "ratings[68] = 5\n",
    "ratings[97] = 2\n",
    "ratings[182] = 4\n",
    "ratings[225] = 5\n",
    "ratings[354] = 5"
   ]
  },
  {
   "cell_type": "markdown",
   "metadata": {},
   "source": [
    "# prepare data"
   ]
  },
  {
   "cell_type": "code",
   "execution_count": 18,
   "metadata": {},
   "outputs": [
    {
     "output_type": "execute_result",
     "data": {
      "text/plain": "(1682, 944)"
     },
     "metadata": {},
     "execution_count": 18
    }
   ],
   "source": [
    "Y, R = movies_mat.get('Y'), movies_mat.get('R')\n",
    "\n",
    "\n",
    "Y = np.insert(Y, 0, ratings, axis=1)  # now I become user 0\n",
    "Y.shape"
   ]
  },
  {
   "cell_type": "code",
   "execution_count": 19,
   "metadata": {},
   "outputs": [
    {
     "output_type": "execute_result",
     "data": {
      "text/plain": "(1682, 944)"
     },
     "metadata": {},
     "execution_count": 19
    }
   ],
   "source": [
    "R = np.insert(R, 0, ratings != 0, axis=1)\n",
    "R.shape"
   ]
  },
  {
   "cell_type": "code",
   "execution_count": 20,
   "metadata": {
    "collapsed": true
   },
   "outputs": [],
   "source": [
    "n_features = 50\n",
    "n_movie, n_user = Y.shape\n",
    "l = 10"
   ]
  },
  {
   "cell_type": "code",
   "execution_count": 21,
   "metadata": {},
   "outputs": [
    {
     "output_type": "execute_result",
     "data": {
      "text/plain": "((1682, 50), (944, 50))"
     },
     "metadata": {},
     "execution_count": 21
    }
   ],
   "source": [
    "X = np.random.standard_normal((n_movie, n_features))\n",
    "theta = np.random.standard_normal((n_user, n_features))\n",
    "\n",
    "X.shape, theta.shape"
   ]
  },
  {
   "cell_type": "code",
   "execution_count": 22,
   "metadata": {
    "collapsed": true
   },
   "outputs": [],
   "source": [
    "param = serialize(X, theta)"
   ]
  },
  {
   "cell_type": "markdown",
   "metadata": {},
   "source": [
    "normalized ratings"
   ]
  },
  {
   "cell_type": "code",
   "execution_count": 23,
   "metadata": {},
   "outputs": [
    {
     "output_type": "execute_result",
     "data": {
      "text/plain": "4.6862111343939375e-17"
     },
     "metadata": {},
     "execution_count": 23
    }
   ],
   "source": [
    "Y_norm = Y - Y.mean()\n",
    "Y_norm.mean()"
   ]
  },
  {
   "cell_type": "markdown",
   "metadata": {},
   "source": [
    "# training"
   ]
  },
  {
   "cell_type": "code",
   "execution_count": 24,
   "metadata": {
    "collapsed": true
   },
   "outputs": [],
   "source": [
    "import scipy.optimize as opt"
   ]
  },
  {
   "cell_type": "code",
   "execution_count": 25,
   "metadata": {
    "collapsed": true
   },
   "outputs": [],
   "source": [
    "res = opt.minimize(fun=regularized_cost,\n",
    "                   x0=param,\n",
    "                   args=(Y_norm, R, n_features, l),\n",
    "                   method='TNC',\n",
    "                   jac=regularized_gradient)\n",
    "#这里很慢"
   ]
  },
  {
   "cell_type": "code",
   "execution_count": 26,
   "metadata": {},
   "outputs": [
    {
     "output_type": "execute_result",
     "data": {
      "text/plain": "     fun: 64721.49781507742\n     jac: array([ 5.74618599e-07,  1.92454296e-07, -5.10359692e-07, ...,\n       -7.20176483e-07, -6.13599196e-07,  5.56294600e-07])\n message: 'Converged (|f_n-f_(n-1)| ~= 0)'\n    nfev: 2154\n     nit: 65\n  status: 1\n success: True\n       x: array([ 0.29582328, -0.31776583,  0.39532467, ..., -0.53982147,\n       -0.72820526,  0.04507568])"
     },
     "metadata": {},
     "execution_count": 26
    }
   ],
   "source": [
    "res"
   ]
  },
  {
   "cell_type": "code",
   "execution_count": 27,
   "metadata": {},
   "outputs": [
    {
     "output_type": "execute_result",
     "data": {
      "text/plain": "((1682, 50), (944, 50))"
     },
     "metadata": {},
     "execution_count": 27
    }
   ],
   "source": [
    "X_trained, theta_trained = deserialize(res.x, n_movie, n_user, n_features)\n",
    "X_trained.shape, theta_trained.shape"
   ]
  },
  {
   "cell_type": "code",
   "execution_count": 28,
   "metadata": {
    "collapsed": true
   },
   "outputs": [],
   "source": [
    "prediction = X_trained @ theta_trained.T"
   ]
  },
  {
   "cell_type": "code",
   "execution_count": 29,
   "metadata": {
    "collapsed": true
   },
   "outputs": [],
   "source": [
    "my_preds = prediction[:, 0] + Y.mean()"
   ]
  },
  {
   "cell_type": "code",
   "execution_count": 30,
   "metadata": {},
   "outputs": [
    {
     "output_type": "execute_result",
     "data": {
      "text/plain": "(1682,)"
     },
     "metadata": {},
     "execution_count": 30
    }
   ],
   "source": [
    "idx = np.argsort(my_preds)[::-1]  # Descending order\n",
    "idx.shape"
   ]
  },
  {
   "cell_type": "code",
   "execution_count": 31,
   "metadata": {},
   "outputs": [
    {
     "output_type": "execute_result",
     "data": {
      "text/plain": "array([4.12536011, 4.04411394, 3.99323831, 3.91902683, 3.8168909 ,\n       3.81555899, 3.76602131, 3.76321988, 3.75903791, 3.75079146])"
     },
     "metadata": {},
     "execution_count": 31
    }
   ],
   "source": [
    "# top ten idx\n",
    "my_preds[idx][:10]"
   ]
  },
  {
   "cell_type": "code",
   "execution_count": 32,
   "metadata": {},
   "outputs": [
    {
     "output_type": "stream",
     "name": "stdout",
     "text": "Titanic (1997)\nStar Wars (1977)\nShawshank Redemption, The (1994)\nForrest Gump (1994)\nRaiders of the Lost Ark (1981)\nBraveheart (1995)\nReturn of the Jedi (1983)\nUsual Suspects, The (1995)\nGodfather, The (1972)\nSchindler's List (1993)\n"
    }
   ],
   "source": [
    "for m in movie_list[idx][:10]:\n",
    "    print(m)"
   ]
  },
  {
   "cell_type": "code",
   "execution_count": null,
   "metadata": {
    "collapsed": true
   },
   "outputs": [],
   "source": []
  }
 ],
 "metadata": {
  "anaconda-cloud": {},
  "kernelspec": {
   "display_name": "Python 3",
   "language": "python",
   "name": "python3"
  },
  "language_info": {
   "codemirror_mode": {
    "name": "ipython",
    "version": 3
   },
   "file_extension": ".py",
   "mimetype": "text/x-python",
   "name": "python",
   "nbconvert_exporter": "python",
   "pygments_lexer": "ipython3",
   "version": "3.7.5-final"
  }
 },
 "nbformat": 4,
 "nbformat_minor": 1
}